{
 "cells": [
  {
   "cell_type": "code",
   "execution_count": null,
   "id": "9dd4bce8",
   "metadata": {},
   "outputs": [],
   "source": [
    "#!/usr/local/bin/python3.4\n",
    "\n",
    "#-*- coding: utf-8 -*-\n",
    "import re\n",
    "import sys\n",
    "\n",
    "from gunicorn.app.wsgiapp import run\n",
    "\n",
    "\n",
    "if __name__ == '__main__':\n",
    "        sys.argv[0] = re.sub(r'(-script\\.pyw|\\.exe)?$','',sys.argv[0])\n",
    "        sys.exit(run())"
   ]
  }
 ],
 "metadata": {
  "kernelspec": {
   "display_name": "Python 3",
   "language": "python",
   "name": "python3"
  },
  "language_info": {
   "codemirror_mode": {
    "name": "ipython",
    "version": 3
   },
   "file_extension": ".py",
   "mimetype": "text/x-python",
   "name": "python",
   "nbconvert_exporter": "python",
   "pygments_lexer": "ipython3",
   "version": "3.8.8"
  }
 },
 "nbformat": 4,
 "nbformat_minor": 5
}
